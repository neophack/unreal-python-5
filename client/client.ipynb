{
 "cells": [
  {
   "cell_type": "code",
   "execution_count": 1,
   "metadata": {},
   "outputs": [],
   "source": [
    "import socket\n",
    "import json"
   ]
  },
  {
   "cell_type": "code",
   "execution_count": 2,
   "metadata": {},
   "outputs": [],
   "source": [
    "class UnrealEngine:\n",
    "    def __init__(self, host=\"127.0.0.1\", port=9999):\n",
    "        self.host = host\n",
    "        self.port = port\n",
    "        self.client_socket = socket.socket(socket.AF_INET, socket.SOCK_STREAM)\n",
    "\n",
    "    def start_client(self):\n",
    "        try:\n",
    "            self.client_socket.connect((self.host, self.port))\n",
    "            self.client_socket.settimeout(3.0)\n",
    "        except ConnectionRefusedError:\n",
    "            print(\"Make sure the TCPServer Actor is loaded in the Unreal Engine Editor\")\n",
    "            print(\"And game is running!!!\")\n",
    "\n",
    "    def send_data(self, data: dict):\n",
    "        json_data = json.dumps(data)\n",
    "        self.client_socket.sendall(json_data.encode('utf-8'))\n",
    "        response = self.client_socket.recv(4096).decode(\"utf-8\")\n",
    "        return response\n",
    "    \n",
    "    # todo, change parameter to x,y,z \n",
    "    def add_object(self, data: dict):\n",
    "        object_id = self.send_data(data)\n",
    "        return object_id\n",
    "    \n",
    "    def delete_object(self, object_id):\n",
    "        # TODO: add defaults\n",
    "        data = {\n",
    "            \"action\": \"delete_object\",\n",
    "            \"object_id\": str(object_id)\n",
    "        }\n",
    "        message = self.send_data(data)\n",
    "        return message"
   ]
  },
  {
   "cell_type": "code",
   "execution_count": 3,
   "metadata": {},
   "outputs": [],
   "source": [
    "api = UnrealEngine()\n",
    "api.start_client()"
   ]
  },
  {
   "cell_type": "code",
   "execution_count": 6,
   "metadata": {},
   "outputs": [
    {
     "name": "stdout",
     "output_type": "stream",
     "text": [
      "4\n"
     ]
    }
   ],
   "source": [
    "data = {\n",
    "    \"action\": \"add_object\",\n",
    "    \"location\": {\n",
    "        \"x\": 100.0,\n",
    "        \"y\": 200.0,\n",
    "        \"z\": 500.0\n",
    "    },\n",
    "    \"rotation\": {\n",
    "        \"pitch\": 0.0,\n",
    "        \"yaw\": 0.0,\n",
    "        \"roll\": 0.0\n",
    "    },\n",
    "    \"material_path\": \"Material'/Game/StarterContent/Materials/M_Brick_Clay_New.M_Brick_Clay_New'\",\n",
    "    \"mesh_path\": \"StaticMesh'/Game/StarterContent/Shapes/Shape_Pipe_180.Shape_Pipe_180'\",\n",
    "    \"physics\": True\n",
    "}\n",
    "\n",
    "object_id = api.add_object(data)\n",
    "print(object_id)"
   ]
  },
  {
   "cell_type": "code",
   "execution_count": 7,
   "metadata": {},
   "outputs": [
    {
     "name": "stdout",
     "output_type": "stream",
     "text": [
      "success\n"
     ]
    }
   ],
   "source": [
    "response = api.delete_object(object_id)\n",
    "print(response)"
   ]
  },
  {
   "cell_type": "code",
   "execution_count": null,
   "metadata": {},
   "outputs": [],
   "source": []
  }
 ],
 "metadata": {
  "kernelspec": {
   "display_name": "base",
   "language": "python",
   "name": "python3"
  },
  "language_info": {
   "codemirror_mode": {
    "name": "ipython",
    "version": 3
   },
   "file_extension": ".py",
   "mimetype": "text/x-python",
   "name": "python",
   "nbconvert_exporter": "python",
   "pygments_lexer": "ipython3",
   "version": "3.12.3"
  }
 },
 "nbformat": 4,
 "nbformat_minor": 2
}
