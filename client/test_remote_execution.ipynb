{
 "cells": [
  {
   "cell_type": "code",
   "execution_count": null,
   "metadata": {},
   "outputs": [],
   "source": [
    "import requests\n",
    "import json\n",
    "\n",
    "# Define the URL of your server endpoint\n",
    "url = 'https://your-server-endpoint.com/api/your-endpoint'\n",
    "\n",
    "# Define the request body as a dictionary\n",
    "request_body = {\n",
    "    \"objectPath\": \"/Game/ThirdPersonBP/Maps/ThirdPersonExampleMap.ThirdPersonExampleMap:PersistentLevel.LightSource_0.LightComponent0\",\n",
    "    \"access\": \"READ_ACCESS\",\n",
    "    \"propertyName\": \"RelativeRotation\"\n",
    "}\n",
    "\n",
    "# Make the HTTP request using requests\n",
    "response = requests.post(url, headers={'Content-Type': 'application/json'}, data=json.dumps(request_body))\n",
    "\n",
    "# Check if the request was successful\n",
    "if response.status_code == 200:\n",
    "    print('Success:', response.json())\n",
    "else:\n",
    "    print('Error:', response.status_code, response.text)\n"
   ]
  },
  {
   "cell_type": "code",
   "execution_count": null,
   "metadata": {},
   "outputs": [],
   "source": [
    "import requests\n",
    "\n",
    "# Define the URL and headers for the Remote Control API\n",
    "url = 'http://localhost:30010/remote/object/call'\n",
    "headers = {'Content-Type': 'application/json'}\n",
    "\n",
    "# Define the payload with the Python script you want to run\n",
    "payload = {\n",
    "    \"objectPath\": \"/Script/EditorScriptingUtilities.Default__EditorUtilitySubsystem\",\n",
    "    \"functionName\": \"ExecutePythonCommand\",\n",
    "    \"parameters\": {\n",
    "        \"PythonCommand\": \"exec(open('C:/Path/To/Your/Script/my_script.py').read())\"\n",
    "    }\n",
    "}\n",
    "\n",
    "# Send the request to the Remote Control API\n",
    "response = requests.post(url, json=payload, headers=headers)\n",
    "\n",
    "# Print the response\n",
    "print(response.text)\n"
   ]
  },
  {
   "cell_type": "code",
   "execution_count": null,
   "metadata": {},
   "outputs": [],
   "source": []
  }
 ],
 "metadata": {
  "kernelspec": {
   "display_name": "test_env",
   "language": "python",
   "name": "python3"
  },
  "language_info": {
   "codemirror_mode": {
    "name": "ipython",
    "version": 3
   },
   "file_extension": ".py",
   "mimetype": "text/x-python",
   "name": "python",
   "nbconvert_exporter": "python",
   "pygments_lexer": "ipython3",
   "version": "3.10.14"
  }
 },
 "nbformat": 4,
 "nbformat_minor": 2
}
